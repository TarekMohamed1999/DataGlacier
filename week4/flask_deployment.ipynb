{
 "cells": [
  {
   "cell_type": "code",
   "execution_count": 9,
   "id": "64437c70",
   "metadata": {},
   "outputs": [],
   "source": [
    "from flask import Flask, render_template"
   ]
  },
  {
   "cell_type": "code",
   "execution_count": 10,
   "id": "1e4497db",
   "metadata": {},
   "outputs": [],
   "source": [
    "app = Flask(__name__)"
   ]
  },
  {
   "cell_type": "code",
   "execution_count": 11,
   "id": "4de5ea79",
   "metadata": {},
   "outputs": [],
   "source": [
    "@app.route(\"/\")\n",
    "def home():\n",
    "    return render_template(\"index.html\")"
   ]
  },
  {
   "cell_type": "code",
   "execution_count": null,
   "id": "e2bdc6f8",
   "metadata": {},
   "outputs": [
    {
     "name": "stdout",
     "output_type": "stream",
     "text": [
      " * Serving Flask app \"__main__\" (lazy loading)\n",
      " * Environment: production\n",
      "\u001b[31m   WARNING: This is a development server. Do not use it in a production deployment.\u001b[0m\n",
      "\u001b[2m   Use a production WSGI server instead.\u001b[0m\n",
      " * Debug mode: off\n"
     ]
    },
    {
     "name": "stderr",
     "output_type": "stream",
     "text": [
      " * Running on http://127.0.0.1:8000/ (Press CTRL+C to quit)\n",
      "[2022-03-22 06:04:17,031] ERROR in app: Exception on / [GET]\n",
      "Traceback (most recent call last):\n",
      "  File \"/home/tarek/anaconda3/lib/python3.8/site-packages/flask/app.py\", line 2447, in wsgi_app\n",
      "    response = self.full_dispatch_request()\n",
      "  File \"/home/tarek/anaconda3/lib/python3.8/site-packages/flask/app.py\", line 1952, in full_dispatch_request\n",
      "    rv = self.handle_user_exception(e)\n",
      "  File \"/home/tarek/anaconda3/lib/python3.8/site-packages/flask/app.py\", line 1821, in handle_user_exception\n",
      "    reraise(exc_type, exc_value, tb)\n",
      "  File \"/home/tarek/anaconda3/lib/python3.8/site-packages/flask/_compat.py\", line 39, in reraise\n",
      "    raise value\n",
      "  File \"/home/tarek/anaconda3/lib/python3.8/site-packages/flask/app.py\", line 1950, in full_dispatch_request\n",
      "    rv = self.dispatch_request()\n",
      "  File \"/home/tarek/anaconda3/lib/python3.8/site-packages/flask/app.py\", line 1936, in dispatch_request\n",
      "    return self.view_functions[rule.endpoint](**req.view_args)\n",
      "  File \"/tmp/ipykernel_17610/3548117397.py\", line 3, in home\n",
      "    return render_template(\"index.html\")\n",
      "  File \"/home/tarek/anaconda3/lib/python3.8/site-packages/flask/templating.py\", line 137, in render_template\n",
      "    return _render(\n",
      "  File \"/home/tarek/anaconda3/lib/python3.8/site-packages/flask/templating.py\", line 120, in _render\n",
      "    rv = template.render(context)\n",
      "  File \"/home/tarek/anaconda3/lib/python3.8/site-packages/jinja2/environment.py\", line 1090, in render\n",
      "    self.environment.handle_exception()\n",
      "  File \"/home/tarek/anaconda3/lib/python3.8/site-packages/jinja2/environment.py\", line 832, in handle_exception\n",
      "    reraise(*rewrite_traceback_stack(source=source))\n",
      "  File \"/home/tarek/anaconda3/lib/python3.8/site-packages/jinja2/_compat.py\", line 28, in reraise\n",
      "    raise value.with_traceback(tb)\n",
      "  File \"/media/tarek/Nostaliga/Learn/2022/Internship/DataGlacier/DataGlacier/week4/templates/index.html\", line 19, in top-level template code\n",
      "    <form action=\"{{ url_for('predict')}}\"method=\"post\">\n",
      "  File \"/home/tarek/anaconda3/lib/python3.8/site-packages/flask/helpers.py\", line 370, in url_for\n",
      "    return appctx.app.handle_url_build_error(error, endpoint, values)\n",
      "  File \"/home/tarek/anaconda3/lib/python3.8/site-packages/flask/app.py\", line 2216, in handle_url_build_error\n",
      "    reraise(exc_type, exc_value, tb)\n",
      "  File \"/home/tarek/anaconda3/lib/python3.8/site-packages/flask/_compat.py\", line 39, in reraise\n",
      "    raise value\n",
      "  File \"/home/tarek/anaconda3/lib/python3.8/site-packages/flask/helpers.py\", line 357, in url_for\n",
      "    rv = url_adapter.build(\n",
      "  File \"/home/tarek/anaconda3/lib/python3.8/site-packages/werkzeug/routing.py\", line 2315, in build\n",
      "    raise BuildError(endpoint, values, method, self)\n",
      "werkzeug.routing.BuildError: Could not build url for endpoint 'predict'. Did you mean 'static' instead?\n",
      "127.0.0.1 - - [22/Mar/2022 06:04:17] \"GET / HTTP/1.1\" 500 -\n"
     ]
    }
   ],
   "source": [
    "app.run(port = 8000)"
   ]
  },
  {
   "cell_type": "code",
   "execution_count": null,
   "id": "3d98fd3d",
   "metadata": {},
   "outputs": [],
   "source": []
  }
 ],
 "metadata": {
  "kernelspec": {
   "display_name": "Python 3 (ipykernel)",
   "language": "python",
   "name": "python3"
  },
  "language_info": {
   "codemirror_mode": {
    "name": "ipython",
    "version": 3
   },
   "file_extension": ".py",
   "mimetype": "text/x-python",
   "name": "python",
   "nbconvert_exporter": "python",
   "pygments_lexer": "ipython3",
   "version": "3.8.12"
  }
 },
 "nbformat": 4,
 "nbformat_minor": 5
}
